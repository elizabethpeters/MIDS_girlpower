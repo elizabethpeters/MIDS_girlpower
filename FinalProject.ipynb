{
 "metadata": {
  "name": "",
  "signature": "sha256:188985e107d2bb0cf8d09c1be6a35b2b8a57aff2ccab6add47141134366e1b49"
 },
 "nbformat": 3,
 "nbformat_minor": 0,
 "worksheets": [
  {
   "cells": [
    {
     "cell_type": "markdown",
     "metadata": {},
     "source": [
      "Final Project notebook"
     ]
    },
    {
     "cell_type": "code",
     "collapsed": false,
     "input": [
      "%matplotlib inline\n",
      "\n",
      "#Libraries\n",
      "import re\n",
      "import numpy as np\n",
      "import matplotlib.pyplot as plt\n",
      "\n",
      "# SK-learn libraries for learning.\n",
      "from sklearn.cross_validation import train_test_split\n",
      "from sklearn.pipeline import Pipeline\n",
      "from sklearn.neighbors import KNeighborsClassifier\n",
      "from sklearn.linear_model import LogisticRegression\n",
      "from sklearn.naive_bayes import BernoulliNB\n",
      "from sklearn.naive_bayes import MultinomialNB\n",
      "from sklearn.grid_search import GridSearchCV\n",
      "\n",
      "# SK-learn libraries for evaluation.\n",
      "from sklearn.metrics import confusion_matrix\n",
      "from sklearn import metrics\n",
      "from sklearn.metrics import classification_report\n",
      "\n",
      "import csv\n",
      "import fileinput\n",
      "import sys"
     ],
     "language": "python",
     "metadata": {},
     "outputs": [],
     "prompt_number": 11
    },
    {
     "cell_type": "code",
     "collapsed": false,
     "input": [
      "#import data\n",
      "#numpy loadtxt can only import homogeneous types, so everything has been imported as str\n",
      "\n",
      "#day header \n",
      "#instant,dteday,season,yr,mnth,holiday,weekday,workingday,weathersit,temp,atemp,hum,windspeed,casual,registered,cnt\n",
      "day = np.loadtxt('Bike-Sharing-Dataset/day.csv', dtype=str, delimiter=',', skiprows=1)\n",
      "#print day[0]\n",
      "\n",
      "#hour header\n",
      "#instant,dteday,season,yr,mnth,hr,holiday,weekday,workingday,weathersit,temp,atemp,hum,windspeed,casual,registered,cnt\n",
      "hour = np.loadtxt('Bike-Sharing-Dataset/hour.csv', dtype=str, delimiter=',', skiprows=1)\n",
      "#print hour[0]\n",
      "\n",
      "# Pull data from Kaggle site (https://www.kaggle.com/c/bike-sharing-demand/data)\n",
      "data = np.loadtxt(\"Bike-Sharing-Dataset/train.csv\", dtype=str, delimiter=',')\n",
      "# store the header values in an array and remove header row from training data\n",
      "header_row = data[0]\n",
      "data = data[1:]\n",
      "# create train and test set using cross validation and data shuffling (see sklearn.cross_validation.train_test_split)\n",
      "train, test = train_test_split(data, test_size=0.2, random_state=42)\n",
      "# now make train_labels and test_labels\n",
      "train_labels = train[:, range(9,12)]\n",
      "train = train[:, range(9)]\n",
      "test_labels = test[:, range(9,12)]\n",
      "test = test[:, range(9)]\n",
      "\n",
      "\n",
      "#This data has no labels ('casual','registered','count') since those are what we are trying to predict\n",
      "dev = np.loadtxt('Bike-Sharing-Dataset/test.csv', dtype=str, delimiter=',',skiprows=1)\n",
      "\n",
      "print header_row\n",
      "print train[0]\n",
      "print test[0]\n",
      "print dev[0]"
     ],
     "language": "python",
     "metadata": {},
     "outputs": [
      {
       "output_type": "stream",
       "stream": "stdout",
       "text": [
        "['datetime' 'season' 'holiday' 'workingday' 'weather' 'temp' 'atemp'\n",
        " 'humidity' 'windspeed' 'casual' 'registered' 'count']\n",
        "['2011-07-06 05:00:00' '3' '0' '1' '1' '27.88' '31.82' '83' '6.0032']\n",
        "['2011-07-19 11:00:00' '3' '0' '1' '1' '33.62' '40.15' '59' '0']\n",
        "['2011-01-20 00:00:00' '1' '0' '1' '1' '10.66' '11.365' '56' '26.0027']\n"
       ]
      }
     ],
     "prompt_number": 37
    },
    {
     "cell_type": "markdown",
     "metadata": {},
     "source": [
      "Individual data exploration in blocks below"
     ]
    },
    {
     "cell_type": "markdown",
     "metadata": {},
     "source": [
      "Elizabeth\n",
      "regression and other data exploration"
     ]
    },
    {
     "cell_type": "markdown",
     "metadata": {},
     "source": [
      "Erin\n"
     ]
    },
    {
     "cell_type": "markdown",
     "metadata": {},
     "source": [
      "Sharon\n"
     ]
    },
    {
     "cell_type": "markdown",
     "metadata": {},
     "source": [
      "Group discussion"
     ]
    }
   ],
   "metadata": {}
  }
 ]
}