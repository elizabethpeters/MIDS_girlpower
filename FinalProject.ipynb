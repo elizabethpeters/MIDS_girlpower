{
 "metadata": {
  "name": "",
  "signature": "sha256:ecb0843a0f572d5eb137f1f6bc6a772d3689384114de0f3a41e35291bdd201c1"
 },
 "nbformat": 3,
 "nbformat_minor": 0,
 "worksheets": [
  {
   "cells": [
    {
     "cell_type": "markdown",
     "metadata": {},
     "source": [
      "Final Project notebook"
     ]
    },
    {
     "cell_type": "code",
     "collapsed": false,
     "input": [
      "#Libraries\n",
      "import re\n",
      "import numpy as np\n",
      "import matplotlib.pyplot as plt\n",
      "\n",
      "# SK-learn libraries for learning.\n",
      "from sklearn.pipeline import Pipeline\n",
      "from sklearn.neighbors import KNeighborsClassifier\n",
      "from sklearn.linear_model import LogisticRegression\n",
      "from sklearn.naive_bayes import BernoulliNB\n",
      "from sklearn.naive_bayes import MultinomialNB\n",
      "from sklearn.grid_search import GridSearchCV\n",
      "\n",
      "# SK-learn libraries for evaluation.\n",
      "from sklearn.metrics import confusion_matrix\n",
      "from sklearn import metrics\n",
      "from sklearn.metrics import classification_report\n",
      "\n",
      "import csv\n",
      "import fileinput\n",
      "import sys"
     ],
     "language": "python",
     "metadata": {},
     "outputs": [],
     "prompt_number": 4
    },
    {
     "cell_type": "code",
     "collapsed": false,
     "input": [
      "#import data\n",
      "#numpy loadtxt can only import homogeneous types, so everything has been imported as str\n",
      "\n",
      "#day header \n",
      "#instant,dteday,season,yr,mnth,holiday,weekday,workingday,weathersit,temp,atemp,hum,windspeed,casual,registered,cnt\n",
      "day = np.loadtxt('Bike-Sharing-Dataset/day.csv', dtype=str, delimiter=',', skiprows=1)\n",
      "#print day[0]\n",
      "\n",
      "#hour header\n",
      "#instant,dteday,season,yr,mnth,hr,holiday,weekday,workingday,weathersit,temp,atemp,hum,windspeed,casual,registered,cnt\n",
      "hour = np.loadtxt('Bike-Sharing-Dataset/hour.csv', dtype=str, delimiter=',', skiprows=1)\n",
      "#print hour[0]\n",
      "\n",
      "#split into trainig/dev"
     ],
     "language": "python",
     "metadata": {},
     "outputs": [
      {
       "output_type": "stream",
       "stream": "stdout",
       "text": [
        "['1' '2011-01-01' '1' '0' '1' '0' '6' '0' '2' '0.344167' '0.363625'\n",
        " '0.805833' '0.160446' '331' '654' '985']\n",
        "['1' '2011-01-01' '1' '0' '1' '0' '0' '6' '0' '1' '0.24' '0.2879' '0.81'\n",
        " '0' '3' '13' '16']"
       ]
      },
      {
       "output_type": "stream",
       "stream": "stdout",
       "text": [
        "\n"
       ]
      }
     ],
     "prompt_number": 19
    },
    {
     "cell_type": "markdown",
     "metadata": {},
     "source": [
      "Individual data exploration in blocks below"
     ]
    },
    {
     "cell_type": "markdown",
     "metadata": {},
     "source": [
      "Elizabeth\n",
      "regression and other data exploration"
     ]
    },
    {
     "cell_type": "markdown",
     "metadata": {},
     "source": [
      "Erin\n"
     ]
    },
    {
     "cell_type": "markdown",
     "metadata": {},
     "source": [
      "Sharon\n"
     ]
    },
    {
     "cell_type": "markdown",
     "metadata": {},
     "source": [
      "Group discussion"
     ]
    }
   ],
   "metadata": {}
  }
 ]
}