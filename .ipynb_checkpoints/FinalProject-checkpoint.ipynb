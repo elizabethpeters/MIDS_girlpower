{
 "metadata": {
  "name": "",
  "signature": "sha256:73d212b78be9e3c18e3bd3d78c5db998bccb47714dbadaf5a620399e345fcb29"
 },
 "nbformat": 3,
 "nbformat_minor": 0,
 "worksheets": [
  {
   "cells": [
    {
     "cell_type": "markdown",
     "metadata": {},
     "source": [
      "Final Project notebook"
     ]
    },
    {
     "cell_type": "markdown",
     "metadata": {},
     "source": []
    }
   ],
   "metadata": {}
  }
 ]
}