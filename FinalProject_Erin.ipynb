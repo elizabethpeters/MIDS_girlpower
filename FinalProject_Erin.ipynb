{
 "metadata": {
  "name": "",
  "signature": "sha256:a73bb324bdd006385bec04ac65977abc201fe067edf59dfd20988320d13ac4a4"
 },
 "nbformat": 3,
 "nbformat_minor": 0,
 "worksheets": [
  {
   "cells": [
    {
     "cell_type": "heading",
     "level": 1,
     "metadata": {},
     "source": [
      "Modeling Capital Bike Share Demand"
     ]
    },
    {
     "cell_type": "code",
     "collapsed": false,
     "input": [
      "%matplotlib inline\n",
      "\n",
      "#Libraries\n",
      "import re\n",
      "import numpy as np\n",
      "import pandas as pd\n",
      "\n",
      "import matplotlib.pyplot as plt\n",
      "\n",
      "# SK-learn libraries for learning.\n",
      "from sklearn.feature_extraction import DictVectorizer\n",
      "from sklearn.cross_validation import train_test_split\n",
      "from sklearn.pipeline import Pipeline\n",
      "from sklearn.neighbors import KNeighborsClassifier\n",
      "from sklearn.linear_model import LogisticRegression\n",
      "from sklearn.linear_model import LinearRegression\n",
      "from sklearn.naive_bayes import BernoulliNB\n",
      "from sklearn.naive_bayes import MultinomialNB\n",
      "from sklearn.grid_search import GridSearchCV\n",
      "from sklearn.ensemble import RandomForestRegressor\n",
      "from sklearn.ensemble import ExtraTreesRegressor\n",
      "from sklearn.ensemble import AdaBoostRegressor\n",
      "\n",
      "# SK-learn libraries for evaluation.\n",
      "from sklearn.metrics import confusion_matrix\n",
      "from sklearn import metrics\n",
      "from sklearn.metrics import classification_report\n",
      "from sklearn.metrics import accuracy_score\n",
      "\n",
      "import csv\n",
      "import fileinput\n",
      "import sys\n",
      "import math\n",
      "from datetime import date\n",
      "\n",
      "%matplotlib inline"
     ],
     "language": "python",
     "metadata": {},
     "outputs": [],
     "prompt_number": 91
    },
    {
     "cell_type": "markdown",
     "metadata": {},
     "source": [
      "***\n",
      "Problem Statement\n",
      "---\n",
      "\n",
      "You must predict the total count of bikes rented during each hour covered by the test set, using only information available prior to the rental period.\n",
      "\n",
      "\n",
      "Associated tasks\n",
      "---\n",
      "\n",
      "\t- Regression: \n",
      "\t\tPredication of bike rental count hourly or daily based on the environmental and seasonal settings.\n",
      "\t\n",
      "\t- Event and Anomaly Detection:  \n",
      "\t\tCount of rented bikes are also correlated to some events in the town which easily are traceable via search engines.\n",
      "\t\tFor instance, query like \"2012-10-30 washington d.c.\" in Google returns related results to Hurricane Sandy. Some of the\n",
      "        important events are identified in [1]. Therefore the data can be used for validation of anomaly or event detection \n",
      "        algorithms as well.\n",
      "\n",
      "\n",
      "Raw Dataset Characteristics\n",
      "---\n",
      "Both hour.csv and day.csv have the following fields, except hr which is not available in day.csv\n",
      "\t\n",
      "\t- instant: record index\n",
      "\t- dteday : date\n",
      "\t- season : season (1:springer, 2:summer, 3:fall, 4:winter)\n",
      "\t- yr : year (0: 2011, 1:2012)\n",
      "\t- mnth : month ( 1 to 12)\n",
      "\t- hr : hour (0 to 23)\n",
      "\t- holiday : weather day is holiday or not (extracted from http://dchr.dc.gov/page/holiday-schedule)\n",
      "\t- weekday : day of the week\n",
      "\t- workingday : if day is neither weekend nor holiday is 1, otherwise is 0.\n",
      "\t+ weathersit : \n",
      "\t\t- 1: Clear, Few clouds, Partly cloudy, Partly cloudy\n",
      "\t\t- 2: Mist + Cloudy, Mist + Broken clouds, Mist + Few clouds, Mist\n",
      "\t\t- 3: Light Snow, Light Rain + Thunderstorm + Scattered clouds, Light Rain + Scattered clouds\n",
      "\t\t- 4: Heavy Rain + Ice Pallets + Thunderstorm + Mist, Snow + Fog\n",
      "\t- temp : Normalized temperature in Celsius. The values are divided to 41 (max)\n",
      "\t- atemp: Normalized feeling temperature in Celsius. The values are divided to 50 (max)\n",
      "\t- hum: Normalized humidity. The values are divided to 100 (max)\n",
      "\t- windspeed: Normalized wind speed. The values are divided to 67 (max)\n",
      "\t- casual: count of casual users\n",
      "\t- registered: count of registered users\n",
      "\t- cnt: count of total rental bikes including both casual and registered\n",
      "***"
     ]
    },
    {
     "cell_type": "heading",
     "level": 2,
     "metadata": {},
     "source": [
      "Data Import"
     ]
    },
    {
     "cell_type": "markdown",
     "metadata": {},
     "source": [
      "The first step is to import the data from Kaggle (train.csv and test.csv). We store the train data as \"data\" because this will later be split into train and test sets. Test.csv is imported as 'dev' so that we can save it for final testing and submission."
     ]
    },
    {
     "cell_type": "code",
     "collapsed": false,
     "input": [
      "# Pull data from Kaggle site (https://www.kaggle.com/c/bike-sharing-demand/data)\n",
      "data = np.loadtxt(\"Bike-Sharing-Dataset/train.csv\", dtype=str, delimiter=',')\n",
      "                  \n",
      "# This data has no columns ['casual','registered','count'] since those are what we are trying to predict\n",
      "raw_dev = np.loadtxt('Bike-Sharing-Dataset/test.csv', dtype=str, delimiter=',')\n",
      "dev = raw_dev # raw_dev only used for datetime values in Kaggle submission"
     ],
     "language": "python",
     "metadata": {},
     "outputs": [],
     "prompt_number": 74
    },
    {
     "cell_type": "heading",
     "level": 2,
     "metadata": {},
     "source": [
      "Data Cleaning and Feature Engineering"
     ]
    },
    {
     "cell_type": "markdown",
     "metadata": {},
     "source": [
      "First, we define a datetime_split utility function that will be used to separate the datetime value in the data into six columns of year, month, day, hour, min, sec."
     ]
    },
    {
     "cell_type": "code",
     "collapsed": false,
     "input": [
      "# splits datetime value in form \"2011-01-20 05:00:00\" to 6 columns ['2011' '01' '01' '00' '00' '00']\n",
      "# which allows us to convert the np array to type float and to build a model that includes values in these columns\n",
      "def datetime_split(header_row, data, datetime_index):\n",
      "    header_row = np.insert(np.delete(header_row, datetime_index), 0, [\"year\",\"month\",\"day\",\"hours\",\"mins\",\"secs\"])\n",
      "    # uses the datetime column's index value as a reference around which to stack the columns\n",
      "    # also splits the value around any non a-zA-Z0-9_ characters\n",
      "    split_data = np.hstack((map(lambda x:  re.findall(r\"[\\w']+\", x), data[:,datetime_index]), data[:,:datetime_index],data[:,datetime_index+1:]))\n",
      "    return header_row, split_data"
     ],
     "language": "python",
     "metadata": {},
     "outputs": [],
     "prompt_number": 75
    },
    {
     "cell_type": "markdown",
     "metadata": {},
     "source": [
      "Next we begin cleaning the data and feature engineering. We separate the data into a header_row and data with the datetime column split into more meaningful categorical values (that we will dummy factor using pandas later). We immediately delete the seconds and minutes columns that contain only 00 values and are meaningless for prediction. We replace the month day (1-31 values) with a day of the week value (1-7 for each day). This is also a categorical variable that we will convert to dummy encodings with pandas later."
     ]
    },
    {
     "cell_type": "code",
     "collapsed": false,
     "input": [
      "# pass the header row, data, and datetime column index into the datetime_split function to separate the datetime column\n",
      "# into analyzable column values\n",
      "header_row, data = datetime_split(data[0], data[1:], 0)\n",
      "dev_header, dev = datetime_split(dev[0], dev[1:], 0)\n",
      "\n",
      "# remove the seconds and minutes columns since they only contain 00s (for both data and dev)\n",
      "header_row = np.delete(header_row, np.s_[4:6:1], 0)\n",
      "dev_header = np.delete(dev_header, np.s_[4:6:1], 0)\n",
      "\n",
      "data = np.delete(data, np.s_[4:6:1], 1)\n",
      "dev = np.delete(dev, np.s_[4:6:1], 1)\n",
      "\n",
      "# add day_of_week rather than day\n",
      "data[:,2] = np.array([date(row[0].astype(int), row[1].astype(int), row[2].astype(int)).weekday() for row in data])\n",
      "dev[:,2] = np.array([date(row[0].astype(int), row[1].astype(int), row[2].astype(int)).weekday() for row in dev])"
     ],
     "language": "python",
     "metadata": {},
     "outputs": [],
     "prompt_number": 76
    },
    {
     "cell_type": "markdown",
     "metadata": {},
     "source": [
      "Next we're going to put our data into a pandas dataframe since we want to dummy encode variables so that different columns hold different data types. For example, we need windspeed to be a float value, but weather should be categorical and dummy encoded. So we use a one hot encoder algorithm to dummy encode our categorical data."
     ]
    },
    {
     "cell_type": "code",
     "collapsed": false,
     "input": [
      "def one_hot_dataframe(data, cols, replace=False):\n",
      "    \"\"\" Takes a dataframe and a list of columns that need to be encoded.\n",
      "    Returns a 3-tuple comprising the data, the vectorized data,\n",
      "    and the fitted vectorizor.\n",
      "    Modified from https://gist.github.com/kljensen/5452382\n",
      "    \"\"\"\n",
      "    vec = DictVectorizer()\n",
      "    mkdict = lambda row: dict((col, row[col]) for col in cols)\n",
      "    vecData = pd.DataFrame(vec.fit_transform(data[cols].to_dict(outtype='records')).toarray())\n",
      "    vecData.columns = vec.get_feature_names()\n",
      "    vecData.index = data.index\n",
      "    if replace is True:\n",
      "        data = data.drop(cols, axis=1)\n",
      "        data = data.join(vecData)\n",
      "    return (data, vec)\n",
      "\n",
      "def one_more_hot_dataframe(data, cols, vec, replace=False):\n",
      "    mkdict = lambda row: dict((col, row[col]) for col in cols)\n",
      "    vecData = pd.DataFrame(vec.transform(data[cols].to_dict(outtype='records')).toarray())\n",
      "    vecData.columns = vec.get_feature_names()\n",
      "    vecData.index = data.index\n",
      "    if replace is True:\n",
      "        data = data.drop(cols, axis=1)\n",
      "        data = data.join(vecData)\n",
      "    return data"
     ],
     "language": "python",
     "metadata": {},
     "outputs": [],
     "prompt_number": 77
    },
    {
     "cell_type": "code",
     "collapsed": false,
     "input": [
      "pd_data = pd.DataFrame(data, columns = header_row)\n",
      "pd_dev = pd.DataFrame(dev, columns = dev_header)\n",
      "\n",
      "## useful\n",
      "# compute percentage of chronic heart disease for famhist\n",
      "#y.groupby(X.famhist).mean()\n",
      "\n",
      "# Vectorize the categorical columns\n",
      "cat_cols = ['year', 'month', 'day', 'hours','season','holiday','workingday','weather']\n",
      "pd_data, vec = one_hot_dataframe(pd_data, cat_cols, replace=True)\n",
      "pd_dev = one_more_hot_dataframe(pd_dev, cat_cols, vec, replace=True) \n",
      "\n",
      "# Set the dtype as \"float\" and \"int\" for the remaining columns\n",
      "pd_data[['temp','atemp','humidity','windspeed']] = pd_data[['temp','atemp','humidity','windspeed']].astype(float)\n",
      "pd_dev[['temp','atemp','humidity','windspeed']] = pd_dev[['temp','atemp','humidity','windspeed']].astype(float)\n",
      "\n",
      "pd_data[['casual','registered','count']] = pd_data[['casual','registered','count']].astype(int)\n",
      "\n",
      "# Move the casual, registered, and count columns to the last spots in the data dataframe\n",
      "labels = pd_data[['casual','registered','count']]\n",
      "pd_data = pd_data.drop(['casual','registered','count'], 1)\n",
      "pd_data = pd_data.join(labels)\n",
      "\n",
      "pd_data.head()\n"
     ],
     "language": "python",
     "metadata": {},
     "outputs": [
      {
       "html": [
        "<div style=\"max-height:1000px;max-width:1500px;overflow:auto;\">\n",
        "<table border=\"1\" class=\"dataframe\">\n",
        "  <thead>\n",
        "    <tr style=\"text-align: right;\">\n",
        "      <th></th>\n",
        "      <th>temp</th>\n",
        "      <th>atemp</th>\n",
        "      <th>humidity</th>\n",
        "      <th>windspeed</th>\n",
        "      <th>day=0</th>\n",
        "      <th>day=1</th>\n",
        "      <th>day=2</th>\n",
        "      <th>day=3</th>\n",
        "      <th>day=4</th>\n",
        "      <th>day=5</th>\n",
        "      <th>...</th>\n",
        "      <th>weather=2</th>\n",
        "      <th>weather=3</th>\n",
        "      <th>weather=4</th>\n",
        "      <th>workingday=0</th>\n",
        "      <th>workingday=1</th>\n",
        "      <th>year=2011</th>\n",
        "      <th>year=2012</th>\n",
        "      <th>casual</th>\n",
        "      <th>registered</th>\n",
        "      <th>count</th>\n",
        "    </tr>\n",
        "  </thead>\n",
        "  <tbody>\n",
        "    <tr>\n",
        "      <th>0</th>\n",
        "      <td> 9.84</td>\n",
        "      <td> 14.395</td>\n",
        "      <td> 81</td>\n",
        "      <td> 0</td>\n",
        "      <td> 0</td>\n",
        "      <td> 0</td>\n",
        "      <td> 0</td>\n",
        "      <td> 0</td>\n",
        "      <td> 0</td>\n",
        "      <td> 1</td>\n",
        "      <td>...</td>\n",
        "      <td> 0</td>\n",
        "      <td> 0</td>\n",
        "      <td> 0</td>\n",
        "      <td> 1</td>\n",
        "      <td> 0</td>\n",
        "      <td> 1</td>\n",
        "      <td> 0</td>\n",
        "      <td> 3</td>\n",
        "      <td> 13</td>\n",
        "      <td> 16</td>\n",
        "    </tr>\n",
        "    <tr>\n",
        "      <th>1</th>\n",
        "      <td> 9.02</td>\n",
        "      <td> 13.635</td>\n",
        "      <td> 80</td>\n",
        "      <td> 0</td>\n",
        "      <td> 0</td>\n",
        "      <td> 0</td>\n",
        "      <td> 0</td>\n",
        "      <td> 0</td>\n",
        "      <td> 0</td>\n",
        "      <td> 1</td>\n",
        "      <td>...</td>\n",
        "      <td> 0</td>\n",
        "      <td> 0</td>\n",
        "      <td> 0</td>\n",
        "      <td> 1</td>\n",
        "      <td> 0</td>\n",
        "      <td> 1</td>\n",
        "      <td> 0</td>\n",
        "      <td> 8</td>\n",
        "      <td> 32</td>\n",
        "      <td> 40</td>\n",
        "    </tr>\n",
        "    <tr>\n",
        "      <th>2</th>\n",
        "      <td> 9.02</td>\n",
        "      <td> 13.635</td>\n",
        "      <td> 80</td>\n",
        "      <td> 0</td>\n",
        "      <td> 0</td>\n",
        "      <td> 0</td>\n",
        "      <td> 0</td>\n",
        "      <td> 0</td>\n",
        "      <td> 0</td>\n",
        "      <td> 1</td>\n",
        "      <td>...</td>\n",
        "      <td> 0</td>\n",
        "      <td> 0</td>\n",
        "      <td> 0</td>\n",
        "      <td> 1</td>\n",
        "      <td> 0</td>\n",
        "      <td> 1</td>\n",
        "      <td> 0</td>\n",
        "      <td> 5</td>\n",
        "      <td> 27</td>\n",
        "      <td> 32</td>\n",
        "    </tr>\n",
        "    <tr>\n",
        "      <th>3</th>\n",
        "      <td> 9.84</td>\n",
        "      <td> 14.395</td>\n",
        "      <td> 75</td>\n",
        "      <td> 0</td>\n",
        "      <td> 0</td>\n",
        "      <td> 0</td>\n",
        "      <td> 0</td>\n",
        "      <td> 0</td>\n",
        "      <td> 0</td>\n",
        "      <td> 1</td>\n",
        "      <td>...</td>\n",
        "      <td> 0</td>\n",
        "      <td> 0</td>\n",
        "      <td> 0</td>\n",
        "      <td> 1</td>\n",
        "      <td> 0</td>\n",
        "      <td> 1</td>\n",
        "      <td> 0</td>\n",
        "      <td> 3</td>\n",
        "      <td> 10</td>\n",
        "      <td> 13</td>\n",
        "    </tr>\n",
        "    <tr>\n",
        "      <th>4</th>\n",
        "      <td> 9.84</td>\n",
        "      <td> 14.395</td>\n",
        "      <td> 75</td>\n",
        "      <td> 0</td>\n",
        "      <td> 0</td>\n",
        "      <td> 0</td>\n",
        "      <td> 0</td>\n",
        "      <td> 0</td>\n",
        "      <td> 0</td>\n",
        "      <td> 1</td>\n",
        "      <td>...</td>\n",
        "      <td> 0</td>\n",
        "      <td> 0</td>\n",
        "      <td> 0</td>\n",
        "      <td> 1</td>\n",
        "      <td> 0</td>\n",
        "      <td> 1</td>\n",
        "      <td> 0</td>\n",
        "      <td> 0</td>\n",
        "      <td>  1</td>\n",
        "      <td>  1</td>\n",
        "    </tr>\n",
        "  </tbody>\n",
        "</table>\n",
        "<p>5 rows \u00d7 64 columns</p>\n",
        "</div>"
       ],
       "metadata": {},
       "output_type": "pyout",
       "prompt_number": 78,
       "text": [
        "   temp   atemp  humidity  windspeed  day=0  day=1  day=2  day=3  day=4  \\\n",
        "0  9.84  14.395        81          0      0      0      0      0      0   \n",
        "1  9.02  13.635        80          0      0      0      0      0      0   \n",
        "2  9.02  13.635        80          0      0      0      0      0      0   \n",
        "3  9.84  14.395        75          0      0      0      0      0      0   \n",
        "4  9.84  14.395        75          0      0      0      0      0      0   \n",
        "\n",
        "   day=5  ...    weather=2  weather=3  weather=4  workingday=0  workingday=1  \\\n",
        "0      1  ...            0          0          0             1             0   \n",
        "1      1  ...            0          0          0             1             0   \n",
        "2      1  ...            0          0          0             1             0   \n",
        "3      1  ...            0          0          0             1             0   \n",
        "4      1  ...            0          0          0             1             0   \n",
        "\n",
        "   year=2011  year=2012  casual  registered  count  \n",
        "0          1          0       3          13     16  \n",
        "1          1          0       8          32     40  \n",
        "2          1          0       5          27     32  \n",
        "3          1          0       3          10     13  \n",
        "4          1          0       0           1      1  \n",
        "\n",
        "[5 rows x 64 columns]"
       ]
      }
     ],
     "prompt_number": 78
    },
    {
     "cell_type": "markdown",
     "metadata": {},
     "source": [
      "Ok, now that we have the data cleaned up, let's go ahead and start making our train, test sets along with the correct labels."
     ]
    },
    {
     "cell_type": "code",
     "collapsed": false,
     "input": [
      "# First, we separate the count label column from the predictor columns, dropping registered and casual columns as predictors\n",
      "count = pd_data['count']\n",
      "x = pd_data.drop('count', 1)\n",
      "x = x.drop(['registered', 'casual'], 1)\n",
      "\n",
      "# Because casual bike-renters rent in different patterns than registered renters, \n",
      "# we also create data to create separate casual and registered models\n",
      "\n",
      "# casual\n",
      "casual = pd_data['casual']\n",
      "x_casual = pd_data.drop('casual',1)\n",
      "x_casual = x_casual.drop(['registered', 'count'],1)\n",
      "\n",
      "# registered\n",
      "registered = pd_data['registered']\n",
      "x_registered = pd_data.drop('registered',1)\n",
      "x_registered = x_registered.drop(['casual', 'count'],1)\n",
      "\n",
      "\n",
      "# create train and test sets for registered, casual, and total count predictions\n",
      "train_reg, test_reg, rtrain_labels, rtest_labels = train_test_split(x_registered, registered)\n",
      "train_cas, test_cas, ctrain_labels, ctest_labels = train_test_split(x_casual, casual)\n",
      "train, test, train_labels, test_labels = train_test_split(x, count)"
     ],
     "language": "python",
     "metadata": {},
     "outputs": [],
     "prompt_number": 79
    },
    {
     "cell_type": "heading",
     "level": 2,
     "metadata": {},
     "source": [
      "Linear Regression"
     ]
    },
    {
     "cell_type": "markdown",
     "metadata": {},
     "source": [
      "Woo hoo! Time for some modelling! So first we're going to try Linear Regression, which most likely is not a great classifier for this problem given the nonlinear nature of the problem. We'll create classifiers for both the casual, registered, and total count train/test sets created in the section above."
     ]
    },
    {
     "cell_type": "code",
     "collapsed": false,
     "input": [
      "# Create three LinearRegression classifiers\n",
      "lr = LinearRegression()\n",
      "lr_cas = LinearRegression()\n",
      "lr_reg = LinearRegression()\n",
      "\n",
      "# Fit the models using the proper data sets\n",
      "lr.fit(train, train_labels)  \n",
      "lr_cas.fit(train_cas, ctrain_labels)\n",
      "lr_reg.fit(train_reg, rtrain_labels)\n",
      "\n",
      "# Get the predictions for each model\n",
      "pred = lr.predict(test)\n",
      "pred_cas = lr_cas.predict(test_cas)\n",
      "pred_reg = lr_reg.predict(test_reg)\n",
      "\n",
      "# Calculate the variance scores: (R squared value) where 1 is perfect prediction\n",
      "lr_score = lr.score(test, test_labels)\n",
      "lr_cas_score = lr_cas.score(test_cas, ctest_labels)\n",
      "lr_reg_score = lr_reg.score(test_reg, rtest_labels)\n",
      "\n",
      "print \"Residual sum of squares: %.2f\" % np.mean((pred - test_labels) ** 2)\n",
      "print \"Residual sum of squares (cas): %.2f\" % np.mean((pred_cas - ctest_labels) ** 2)\n",
      "print \"Residual sum of squares (reg): %.2f\" % np.mean((pred_reg - rtest_labels) ** 2)\n",
      "\n",
      "print '\\n\\nVariance score for total count prediction: %.2f' % lr_score\n",
      "print 'Variance score for casual prediction: %.2f' % lr_cas_score\n",
      "print 'Variance score for registered prediction: %.2f' % lr_reg_score\n"
     ],
     "language": "python",
     "metadata": {},
     "outputs": [
      {
       "output_type": "stream",
       "stream": "stdout",
       "text": [
        "Residual sum of squares: 10348.21\n",
        "Residual sum of squares (cas): 1014.92\n",
        "Residual sum of squares (reg): 7066.69\n",
        "\n",
        "\n",
        "Variance score for total count prediction: 0.70\n",
        "Variance score for casual prediction: 0.58\n",
        "Variance score for registered prediction: 0.68\n"
       ]
      }
     ],
     "prompt_number": 80
    },
    {
     "cell_type": "markdown",
     "metadata": {},
     "source": [
      "So, as we said, we don't think Linear Regression is really the way to go here. Let's see what the predictions look like as compared to the actual values."
     ]
    },
    {
     "cell_type": "code",
     "collapsed": false,
     "input": [
      "def remove_border(axes=None, top=False, right=False, left=True, bottom=True):\n",
      "    \"\"\"\n",
      "    Minimize chartjunk by stripping out unnecesasry plot borders and axis ticks\n",
      "    \n",
      "    The top/right/left/bottom keywords toggle whether the corresponding plot border is drawn\n",
      "    \n",
      "    code derived from http://nbviewer.ipython.org/github/fraser-campbell/Machine-Learning-Projects/blob/master/Bike%20Sharing/Bike%20Sharing.ipynb\n",
      "    \"\"\"\n",
      "    ax = axes or plt.gca()\n",
      "    ax.spines['top'].set_visible(top)\n",
      "    ax.spines['right'].set_visible(right)\n",
      "    ax.spines['left'].set_visible(left)\n",
      "    ax.spines['bottom'].set_visible(bottom)\n",
      "    \n",
      "    #turn off all ticks\n",
      "    ax.yaxis.set_ticks_position('none')\n",
      "    ax.xaxis.set_ticks_position('none')\n",
      "    \n",
      "    #now re-enable visibles\n",
      "    if top:\n",
      "        ax.xaxis.tick_top()\n",
      "    if bottom:\n",
      "        ax.xaxis.tick_bottom()\n",
      "    if left:\n",
      "        ax.yaxis.tick_left()\n",
      "    if right:\n",
      "        ax.yaxis.tick_right()\n",
      "\n",
      "plt.scatter(pred, pred - test_labels, c='b', s=40, alpha = 0.25,  label='Residual for Test Data Prediction')\n",
      "plt.plot([-200,600],[0,0], c='r')\n",
      "plt.legend()\n",
      "plt.title('Residuals vs Bike Share Count')\n",
      "plt.xlabel(\"Predicted count values\")\n",
      "plt.ylabel(\"Residuals\")\n",
      "\n",
      "remove_border()"
     ],
     "language": "python",
     "metadata": {},
     "outputs": [
      {
       "metadata": {},
       "output_type": "display_data",
       "png": "[encoded data removed]",
       "text": [
        "<matplotlib.figure.Figure at 0x7f0c73f45990>"
       ]
      }
     ],
     "prompt_number": 81
    },
    {
     "cell_type": "markdown",
     "metadata": {},
     "source": [
      "This confirms our suspicions that LinearRegression is not the way to go here. The residuals increase as the predicted count increases, meaning our model is having trouble predicting the variation in the data. \n",
      "\n",
      "Because we're looking to model count data that is governed by independent events in time, we are going to create a Poisson Regression model. For future sanity checks, a Poisson distribution is described by Wikipedia as follows:\n",
      "\n",
      "*A discrete probability distribution that expresses the probability of a given number of events occurring in a fixed interval of time and/or space if these events occur with a known average rate and independently of the time since the last event.*"
     ]
    },
    {
     "cell_type": "heading",
     "level": 2,
     "metadata": {},
     "source": [
      "Poisson Regression"
     ]
    },
    {
     "cell_type": "markdown",
     "metadata": {},
     "source": [
      "In order to create a Poisson regression model, we just assume the logarithm of the expected count/registered/casual values can be modeled by a linear combination of unknown parameters. So let's do it!"
     ]
    },
    {
     "cell_type": "code",
     "collapsed": false,
     "input": [
      "def rmsele(actual, pred):\n",
      "    \"\"\"\n",
      "    Given a column of predictions and a column of actuals, calculate the RMSELE\n",
      "    \"\"\"\n",
      "    squared_errors = (np.log(pred + 1) - np.log(actual + 1)) ** 2\n",
      "    mean_squared = np.sum(squared_errors) / len(squared_errors)\n",
      "    return np.sqrt(mean_squared)\n",
      "\n",
      "#define a small alpha value\n",
      "alpha = 1\n",
      "\n",
      "# instantiate log label nparrays\n",
      "log_rtrain_labels = rtrain_labels.astype(float)\n",
      "log_rtest_labels = rtest_labels.astype(float)\n",
      "log_ctrain_labels = ctrain_labels.astype(float)\n",
      "log_ctest_labels = ctest_labels.astype(float)\n",
      "log_train_labels = train_labels.astype(float)\n",
      "log_test_labels = test_labels.astype(float)\n",
      "\n",
      "# replace any count values of 0 with 1 since log can't handle values of 0\n",
      "log_rtrain_labels[log_rtrain_labels < 1] = alpha\n",
      "log_rtest_labels[log_rtest_labels < 1] = alpha\n",
      "log_ctrain_labels[log_ctrain_labels < 1] = alpha\n",
      "log_ctest_labels[log_ctest_labels < 1] = alpha\n",
      "log_train_labels[log_train_labels < 1] = alpha\n",
      "log_test_labels[log_test_labels < 1] = alpha\n",
      "\n",
      "# perform log transformation on the labels\n",
      "log_rtrain_labels = np.log(log_rtrain_labels)\n",
      "log_rtest_labels = np.log(log_rtest_labels)\n",
      "log_ctrain_labels = np.log(log_ctrain_labels)\n",
      "log_ctest_labels = np.log(log_ctest_labels)\n",
      "log_train_labels = np.log(train_labels)\n",
      "log_test_labels = np.log(test_labels)\n",
      "\n",
      "# Create three new LinearRegression classifiers for the Poisson model\n",
      "pr = LinearRegression()\n",
      "pr_cas = LinearRegression()\n",
      "pr_reg = LinearRegression()\n",
      "\n",
      "# Fit the models using the proper data sets\n",
      "pr.fit(train, log_train_labels)  \n",
      "pr_cas.fit(train_cas, log_ctrain_labels)\n",
      "pr_reg.fit(train_reg, log_rtrain_labels)\n",
      "\n",
      "# Get the predictions for each model\n",
      "poisson_pred = pr.predict(test)\n",
      "poisson_pred_cas = pr_cas.predict(test_cas)\n",
      "poisson_pred_reg = pr_reg.predict(test_reg)\n",
      "# combined_pred = np.add(np.exp(poisson_pred_cas), np.exp(poisson_pred_reg))\n",
      "\n",
      "# Calculate the variance scores: (R squared value) where 1 is perfect prediction\n",
      "pr_score = pr.score(test, log_test_labels)\n",
      "pr_cas_score = pr_cas.score(test_cas, log_ctest_labels)\n",
      "pr_reg_score = pr_reg.score(test_reg, log_rtest_labels)\n",
      "\n",
      "print \"Root Mean Squared Logarithmic Error for Count: \", rmsele(np.exp(poisson_pred), np.exp(log_test_labels))\n",
      "print \"Test accuracy for Count: %0.2f%%\" % (100*pr_score) + \"\\n\"\n",
      "\n",
      "print \"Root Mean Squared Logarithmic Error for Casual: \", rmsele(np.exp(poisson_pred_cas), np.exp(log_ctest_labels))\n",
      "print \"Test accuracy for Casual: %0.2f%%\" % (100*pr_cas_score) + \"\\n\"\n",
      "\n",
      "print \"Root Mean Squared Logarithmic Error for Registered: \", rmsele(np.exp(poisson_pred_reg), np.exp(log_rtest_labels))\n",
      "print \"Test accuracy for Registered: %0.2f%%\" % (100*pr_reg_score) + \"\\n\""
     ],
     "language": "python",
     "metadata": {},
     "outputs": [
      {
       "output_type": "stream",
       "stream": "stdout",
       "text": [
        "Root Mean Squared Logarithmic Error for Count:  0.58365008494\n",
        "Test accuracy for Count: 83.05%\n",
        "\n",
        "Root Mean Squared Logarithmic Error for Casual:  0.544275030829\n",
        "Test accuracy for Casual: 82.47%\n",
        "\n",
        "Root Mean Squared Logarithmic Error for Registered:  0.583488109064\n",
        "Test accuracy for Registered: 81.66%\n",
        "\n"
       ]
      }
     ],
     "prompt_number": 82
    },
    {
     "cell_type": "markdown",
     "metadata": {},
     "source": [
      "Let's check out the Predicted vs Fitted plot again, but this time for the Poisson model."
     ]
    },
    {
     "cell_type": "code",
     "collapsed": false,
     "input": [
      "plt.scatter(np.exp(poisson_pred), np.exp(log_test_labels))\n",
      "plt.title(\"Poisson Regression Model Prediction\")\n",
      "plt.ylabel(\"Actual Rental Counts\")\n",
      "plt.xlabel(\"Predicted Rental Counts\")\n",
      "plt.xlim(0, 1000)\n",
      "plt.ylim(0, 1000)\n",
      "remove_border()"
     ],
     "language": "python",
     "metadata": {},
     "outputs": [
      {
       "metadata": {},
       "output_type": "display_data",
       "png": "[encoded data removed]",
       "text": [
        "<matplotlib.figure.Figure at 0x7f0c74075d50>"
       ]
      }
     ],
     "prompt_number": 83
    },
    {
     "cell_type": "markdown",
     "metadata": {},
     "source": [
      "Yay! That was a good improvement. But there are still issues with outliers (large counts are less likely to be predicted well). Basically, our model doesn't detect anomalies well. Let's try some different models to see if we can get the prediction error to decrease."
     ]
    },
    {
     "cell_type": "heading",
     "level": 2,
     "metadata": {},
     "source": [
      "Random Forests"
     ]
    },
    {
     "cell_type": "code",
     "collapsed": false,
     "input": [
      "# save the non-dummied data into pandas dataframes\n",
      "rf_data = pd.DataFrame(data, columns = header_row)\n",
      "rf_dev = pd.DataFrame(dev, columns = dev_header)\n",
      "\n",
      "# create the predictors data and the labels data\n",
      "rf_labels = rf_data['count'].astype(int)\n",
      "rf_data = rf_data.drop(['count', 'casual','registered'], 1)\n",
      "\n",
      "# split the data into training and test sets\n",
      "xtrain, xtest, ytrain, ytest = train_test_split(rf_data, rf_labels)\n",
      "\n",
      "# Model Running with optimum parameters on entire training set\n",
      "rf_clf = RandomForestRegressor(n_jobs=1, n_estimators=1000, min_samples_leaf=2, min_samples_split=2, max_features = 'auto', oob_score=True)\n",
      "rf_clf.fit(xtrain, ytrain)\n",
      "preds = rf_clf.predict(xtest).astype(int)\n",
      "\n",
      "# plot of predicted vs actual counts\n",
      "plt.scatter(preds, ytest)\n",
      "plt.title(\"Random Forest Model Prediction\")\n",
      "plt.ylabel(\"Actual Rental Counts\")\n",
      "plt.xlabel(\"Predicted Rental Counts\")\n",
      "plt.xlim(0, 1000)\n",
      "plt.ylim(0, 1000)\n",
      "remove_border()\n",
      "\n",
      "#Root Mean Squared Logarithmic Error (RMSLE) and accuracy score\n",
      "print \"\\nRoot Mean Squared Logarithmic Error Test: \", rmsele(preds, ytest)\n",
      "print \"Test accuracy: %0.2f%%\" % (100*rf_clf.score(xtest, ytest)) + \"\\n\""
     ],
     "language": "python",
     "metadata": {},
     "outputs": [
      {
       "output_type": "stream",
       "stream": "stdout",
       "text": [
        "\n",
        "Root Mean Squared Logarithmic Error Test:  0.332202738683\n",
        "Test accuracy: 94.64%\n"
       ]
      },
      {
       "output_type": "stream",
       "stream": "stdout",
       "text": [
        "\n"
       ]
      },
      {
       "metadata": {},
       "output_type": "display_data",
       "png": "[encoded data removed]",
       "text": [
        "<matplotlib.figure.Figure at 0x7f0c73e1a890>"
       ]
      }
     ],
     "prompt_number": 84
    },
    {
     "cell_type": "markdown",
     "metadata": {},
     "source": [
      "This model does a really nice job of predicting counts. The errors are pretty evenly distributed across all count values, unlike in the regression models."
     ]
    },
    {
     "cell_type": "code",
     "collapsed": false,
     "input": [
      "et_clf = ExtraTreesRegressor(n_estimators=1000, min_samples_split=2, min_samples_leaf=2, max_features='auto', n_jobs=1)\n",
      "et_clf.fit(xtrain, ytrain)\n",
      "et_preds = et_clf.predict(xtest).astype(int)\n",
      "\n",
      "# plot of predicted vs actual counts\n",
      "plt.scatter(preds, ytest)\n",
      "plt.title(\"Extra Trees Regressor Prediction\")\n",
      "plt.ylabel(\"Actual Rental Counts\")\n",
      "plt.xlabel(\"Predicted Rental Counts\")\n",
      "plt.xlim(0, 1000)\n",
      "plt.ylim(0, 1000)\n",
      "remove_border()\n",
      "\n",
      "#Root Mean Squared Logarithmic Error (RMSLE) and accuracy score\n",
      "print \"\\nRoot Mean Squared Logarithmic Error Test: \", rmsele(et_preds, ytest)\n",
      "print \"Test accuracy: %0.2f%%\" % (100*rf_clf.score(xtest, ytest)) + \"\\n\""
     ],
     "language": "python",
     "metadata": {},
     "outputs": [
      {
       "output_type": "stream",
       "stream": "stdout",
       "text": [
        "\n",
        "Root Mean Squared Logarithmic Error Test:  0.326115008496\n",
        "Test accuracy: 94.64%\n"
       ]
      },
      {
       "output_type": "stream",
       "stream": "stdout",
       "text": [
        "\n"
       ]
      },
      {
       "metadata": {},
       "output_type": "display_data",
       "png": "[encoded data removed]",
       "text": [
        "<matplotlib.figure.Figure at 0x7f0c71bad450>"
       ]
      }
     ],
     "prompt_number": 90
    },
    {
     "cell_type": "heading",
     "level": 2,
     "metadata": {},
     "source": [
      "Ada Boost"
     ]
    },
    {
     "cell_type": "code",
     "collapsed": false,
     "input": [
      "# This helper function will make a callable that we can use in cross_val_score\n",
      "rmsele_scorer = make_scorer(rmsele, greater_is_better=False)\n",
      "\n",
      "#Parameter Optimisation with grid search\n",
      "tuned_parameters = [{'max_features': ['sqrt', 'log2', 'auto'], 'max_depth': [5, 8, 12], 'min_samples_leaf': [2, 5, 10]}]\n",
      "rf =  GridSearchCV(RandomForestRegressor(n_jobs=1, n_estimators=1000), tuned_parameters, cv=3, verbose=2, scoring=rmsele_scorer).fit(xtrain, ytrain)"
     ],
     "language": "python",
     "metadata": {},
     "outputs": []
    },
    {
     "cell_type": "code",
     "collapsed": false,
     "input": [
      "# Kaggle submission\n",
      "\n",
      "rf_op = RandomForestRegressor(n_jobs=1, n_estimators=1000, min_samples_leaf=2, min_samples_split=2, max_features = 'auto', oob_score=True)\n",
      "rf_op.fit(rf_data, rf_labels)\n",
      "dev_counts = rf_op.predict(rf_dev).astype(int)\n",
      "\n",
      "# zip these predictions with the datetime for that prediction\n",
      "precsv = zip(raw_dev[1:,0], dev_counts)\n",
      "\n",
      "# output to csv\n",
      "f = open(\"rf_submission.csv\", 'w+')\n",
      "try:\n",
      "    writer = csv.writer(f)\n",
      "    writer.writerow( ('datetime', 'count') )\n",
      "    for row in precsv:\n",
      "        writer.writerow( row )\n",
      "finally:\n",
      "    f.close()"
     ],
     "language": "python",
     "metadata": {},
     "outputs": [],
     "prompt_number": 86
    },
    {
     "cell_type": "heading",
     "level": 1,
     "metadata": {},
     "source": [
      "ERIN IS CURRENT ADDING AT THIS POSITION."
     ]
    },
    {
     "cell_type": "code",
     "collapsed": false,
     "input": [
      "# Code for baseline Kaggle submission (NOTE didn't use the full train.csv data, which would improve our baseline automatically)\n",
      "\n",
      "# predict the counts for dev data (test.csv), converting negative predictions to positive values and casting floats to int\n",
      "predicted_counts = abs(regr.predict(pd_dev).astype(int))\n",
      "# # zip these predictions with the datetime for that prediction\n",
      "precsv = zip(raw_dev[1:,0], predicted_counts)\n",
      "\n",
      "# output to csv\n",
      "f = open(\"submission.csv\", 'w+')\n",
      "try:\n",
      "    writer = csv.writer(f)\n",
      "    writer.writerow( ('datetime', 'count') )\n",
      "    for row in precsv:\n",
      "        writer.writerow( row )\n",
      "finally:\n",
      "    f.close()"
     ],
     "language": "python",
     "metadata": {},
     "outputs": [
      {
       "ename": "NameError",
       "evalue": "name 'regr' is not defined",
       "output_type": "pyerr",
       "traceback": [
        "\u001b[1;31m---------------------------------------------------------------------------\u001b[0m\n\u001b[1;31mNameError\u001b[0m                                 Traceback (most recent call last)",
        "\u001b[1;32m<ipython-input-87-fb85173cbaf0>\u001b[0m in \u001b[0;36m<module>\u001b[1;34m()\u001b[0m\n\u001b[0;32m      2\u001b[0m \u001b[1;33m\u001b[0m\u001b[0m\n\u001b[0;32m      3\u001b[0m \u001b[1;31m# predict the counts for dev data (test.csv), converting negative predictions to positive values and casting floats to int\u001b[0m\u001b[1;33m\u001b[0m\u001b[1;33m\u001b[0m\u001b[0m\n\u001b[1;32m----> 4\u001b[1;33m \u001b[0mpredicted_counts\u001b[0m \u001b[1;33m=\u001b[0m \u001b[0mabs\u001b[0m\u001b[1;33m(\u001b[0m\u001b[0mregr\u001b[0m\u001b[1;33m.\u001b[0m\u001b[0mpredict\u001b[0m\u001b[1;33m(\u001b[0m\u001b[0mpd_dev\u001b[0m\u001b[1;33m)\u001b[0m\u001b[1;33m.\u001b[0m\u001b[0mastype\u001b[0m\u001b[1;33m(\u001b[0m\u001b[0mint\u001b[0m\u001b[1;33m)\u001b[0m\u001b[1;33m)\u001b[0m\u001b[1;33m\u001b[0m\u001b[0m\n\u001b[0m\u001b[0;32m      5\u001b[0m \u001b[1;31m# # zip these predictions with the datetime for that prediction\u001b[0m\u001b[1;33m\u001b[0m\u001b[1;33m\u001b[0m\u001b[0m\n\u001b[0;32m      6\u001b[0m \u001b[0mprecsv\u001b[0m \u001b[1;33m=\u001b[0m \u001b[0mzip\u001b[0m\u001b[1;33m(\u001b[0m\u001b[0mraw_dev\u001b[0m\u001b[1;33m[\u001b[0m\u001b[1;36m1\u001b[0m\u001b[1;33m:\u001b[0m\u001b[1;33m,\u001b[0m\u001b[1;36m0\u001b[0m\u001b[1;33m]\u001b[0m\u001b[1;33m,\u001b[0m \u001b[0mpredicted_counts\u001b[0m\u001b[1;33m)\u001b[0m\u001b[1;33m\u001b[0m\u001b[0m\n",
        "\u001b[1;31mNameError\u001b[0m: name 'regr' is not defined"
       ]
      }
     ],
     "prompt_number": 87
    },
    {
     "cell_type": "markdown",
     "metadata": {},
     "source": [
      "Individual data exploration in blocks below"
     ]
    },
    {
     "cell_type": "heading",
     "level": 4,
     "metadata": {},
     "source": [
      "Elizabeth\n",
      "regression and other data exploration"
     ]
    },
    {
     "cell_type": "code",
     "collapsed": false,
     "input": [
      "#playing around with pandas\n",
      "d2=pd.read_csv(\"Bike-Sharing-Dataset/train.csv\") #reading data\n",
      "dev2=pd.read_csv(\"Bike-Sharing-Dataset/test.csv\")\n",
      "\n",
      "\n",
      "d2.index=pd.to_datetime(d2.pop('datetime')) #making the date of collection the index for the data\n",
      "dev2.index=pd.to_datetime(dev2['datetime'])\n",
      "print d2.head()\n"
     ],
     "language": "python",
     "metadata": {},
     "outputs": []
    },
    {
     "cell_type": "code",
     "collapsed": false,
     "input": [
      "#Feature engineering\n",
      "#adding month and hour as pieces of data\n",
      "d2['month']=d2.index.month\n",
      "d2['hour']=d2.index.hour\n",
      "\n",
      "dev2['month']=dev2.index.month\n",
      "dev2['hour']=dev2.index.hour\n"
     ],
     "language": "python",
     "metadata": {},
     "outputs": []
    },
    {
     "cell_type": "code",
     "collapsed": false,
     "input": [
      "#plotting things\n",
      "fig = plt.figure(figsize=(20,20))\n",
      "\n",
      "ax1=fig.add_subplot(5,2,1)\n",
      "ax2=fig.add_subplot(5,2,2)\n",
      "ax3=fig.add_subplot(5,2,3)\n",
      "ax4=fig.add_subplot(5,2,4)\n",
      "ax5=fig.add_subplot(5,2,5)\n",
      "ax6=fig.add_subplot(5,2,6)\n",
      "ax7=fig.add_subplot(5,2,7)\n",
      "ax8=fig.add_subplot(5,2,8)\n",
      "ax9=fig.add_subplot(5,2,9)\n",
      "ax10=fig.add_subplot(5,2,10)\n",
      "\n",
      "ax1.plot(d2['count'])\n",
      "ax1.set_title('time series count')\n",
      "ax2.hist(d2['count'])\n",
      "ax2.set_title('histogram of count')\n",
      "\n",
      "ax3.plot(d2['temp'])\n",
      "ax3.set_title('time series temp')\n",
      "ax4.hist(d2['temp'])\n",
      "ax4.set_title('histogram of temp')\n",
      "\n",
      "ax5.plot(d2['humidity'])\n",
      "ax5.set_title('time series hum')\n",
      "ax6.hist(d2['humidity'])\n",
      "ax6.set_title('histogram of hum')\n",
      "\n",
      "ax7.plot(d2['windspeed'])\n",
      "ax7.set_title('time series windspeed')\n",
      "ax8.hist(d2['windspeed'])\n",
      "ax8.set_title('histogram of windspeed')\n",
      "\n",
      "ax9.plot(d2['atemp'])\n",
      "ax9.set_title('time series atemp')\n",
      "ax10.hist(d2['atemp'])\n",
      "ax10.set_title('histogram of atemp')\n",
      "\n"
     ],
     "language": "python",
     "metadata": {},
     "outputs": []
    },
    {
     "cell_type": "code",
     "collapsed": false,
     "input": [
      "#summarizing things\n",
      "print \"pivot tables summing total rides\"\n",
      "print d2.pivot_table(['count'], rows=['season'], aggfunc=sum)\n",
      "print d2.pivot_table(['count'], rows=['weather'], aggfunc=sum)\n",
      "print d2.pivot_table(['count'], rows=['holiday'], aggfunc=sum)\n",
      "print d2.pivot_table(['count'], rows=['workingday'], aggfunc=sum)\n",
      "\n",
      "print \"\\npivot tables summing just occurances\"\n",
      "print d2.pivot_table(['count'], rows=['season'], aggfunc='count')\n",
      "print d2.pivot_table(['count'], rows=['weather'], aggfunc='count')\n",
      "print d2.pivot_table(['count'], rows=['holiday'], aggfunc='count')\n",
      "print d2.pivot_table(['count'], rows=['workingday'], aggfunc='count')\n",
      "\n",
      "print \"\\n-------\"\n",
      "print \"trying crosstabs\" \n",
      "print \"note this is a count of occurances, should match the 2nd set of PTs\"\n",
      "print pd.crosstab(d2.season, d2.weather, margins=True)\n",
      "\n",
      "\n"
     ],
     "language": "python",
     "metadata": {},
     "outputs": []
    },
    {
     "cell_type": "heading",
     "level": 4,
     "metadata": {},
     "source": [
      "Retrying regression keeping out date info"
     ]
    },
    {
     "cell_type": "code",
     "collapsed": false,
     "input": [
      "X=d2[['season', \n",
      "      'holiday',\n",
      "      'workingday', \n",
      "      'weather', \n",
      "      'temp', \n",
      "      'atemp', \n",
      "      'humidity', \n",
      "      'windspeed', \n",
      "      'month', \n",
      "      'hour']].values #pulling out x inputs\n",
      "Y=d2[['count']].values #pulling out Y output\n",
      "\n",
      "#splitting x and y\n",
      "X_train, X_test, y_train, y_test = train_test_split(X, Y)  #keeps 25% for testing\n",
      "print X_train.shape\n",
      "print X_test.shape\n",
      "print y_train.shape\n",
      "print y_test.shape\n",
      "\n"
     ],
     "language": "python",
     "metadata": {},
     "outputs": []
    },
    {
     "cell_type": "code",
     "collapsed": false,
     "input": [
      "clf = LinearRegression()\n",
      "clf.fit(X_train, y_train)\n",
      "predicted_train = clf.predict(X_train)\n",
      "predicted_test = clf.predict(X_test)\n",
      "print \"Coefficients: \\n {}\".format(clf.coef_)  #make this prettier!\n",
      "variance_score = clf.score(X_test, y_test)\n",
      "\n",
      "print \"Residual sum of squares: %.2f\" % np.mean((predicted_test - y_test) ** 2)\n",
      "\n",
      "print('Variance score: %.2f' % variance_score)\n",
      "\n"
     ],
     "language": "python",
     "metadata": {},
     "outputs": []
    },
    {
     "cell_type": "markdown",
     "metadata": {},
     "source": [
      "I want to create some dummies for the various cateogrical variables....like month, hour, season, weather.  Workingday and Holiday are already dummy 0/1.\n",
      "\n",
      "I did this all in pandas.  I also transfomed the test/train data set, as well as the dev set (that's OK right?)  Did this really sloppily...but got pretty good R-squared at 63%"
     ]
    },
    {
     "cell_type": "code",
     "collapsed": false,
     "input": [
      "for v in ['season', 'weather', 'month', 'hour']:\n",
      "    dummy=pd.get_dummies(d2[v], prefix= v)\n",
      "    d2=d2.join(dummy)\n",
      "    dummy_dev=pd.get_dummies(dev2[v], prefix=v)\n",
      "    dev2=dev2.join(dummy_dev)\n"
     ],
     "language": "python",
     "metadata": {},
     "outputs": []
    },
    {
     "cell_type": "code",
     "collapsed": false,
     "input": [
      "#pulling out the first variables that I want, excluding dummies\n",
      "x_prep1=d2[['holiday',\n",
      "      'workingday', \n",
      "      'weather', \n",
      "      'temp', \n",
      "      'atemp', \n",
      "      'humidity', \n",
      "      'windspeed']] #pulling out x inputs\n",
      "\n",
      "#pulling out the new dummy variables I created\n",
      "x_prep2=d2.iloc[:,13:]\n",
      "\n",
      "#joining together and creating numpy arry\n",
      "X=x_prep1.join(x_prep2).values  \n",
      "\n",
      "Y=d2[['count']].values #pulling out Y output\n",
      "\n",
      "#splitting x and y\n",
      "X_train, X_test, y_train, y_test = train_test_split(X, Y)  #keeps 25% for testing\n",
      "print X_train.shape\n",
      "print X_test.shape\n",
      "print y_train.shape\n",
      "print y_test.shape"
     ],
     "language": "python",
     "metadata": {},
     "outputs": []
    },
    {
     "cell_type": "code",
     "collapsed": false,
     "input": [
      "devx_prep1=d2[['holiday',\n",
      "      'workingday', \n",
      "      'weather', \n",
      "      'temp', \n",
      "      'atemp', \n",
      "      'humidity', \n",
      "      'windspeed']] #pulling out x inputs\n",
      "\n",
      "#pulling out the new dummy variables I created\n",
      "devx_prep2=d2.iloc[:,13:]\n",
      "\n",
      "#joining together and creating numpy arry\n",
      "dev_tot=devx_prep1.join(devx_prep2).values  "
     ],
     "language": "python",
     "metadata": {},
     "outputs": []
    },
    {
     "cell_type": "code",
     "collapsed": false,
     "input": [
      "clf1 = LinearRegression()\n",
      "clf1.fit(X_train, y_train)\n",
      "predicted_train = clf1.predict(X_train)\n",
      "predicted_test = clf1.predict(X_test)\n",
      "print \"Coefficients: \\n {}\".format(clf1.coef_)  #make this prettier!\n",
      "variance_score = clf1.score(X_test, y_test)\n",
      "\n",
      "print \"Residual sum of squares: %.2f\" % np.mean((predicted_test - y_test) ** 2)\n",
      "\n",
      "print('Variance score: %.2f' % variance_score)\n",
      "\n"
     ],
     "language": "python",
     "metadata": {},
     "outputs": []
    },
    {
     "cell_type": "code",
     "collapsed": true,
     "input": [
      "#copied code from before....shoudl probably make a function.  changed a little bit \n",
      "predicted_counts = np.absolute(clf1.predict(dev_tot).astype(int))[:,0] #changed this as it was giving me arrays\n",
      "# zip these predictions with the datetime for that prediction \n",
      "precsv = zip(dev2['datetime'], predicted_counts) #changed this to get column from pandas array\n",
      "\n",
      "# output to csv\n",
      "f = open(\"submission4.csv\", 'w+')\n",
      "try:\n",
      "    writer = csv.writer(f)\n",
      "    writer.writerow( ('datetime', 'count') )\n",
      "    for row in precsv:\n",
      "        writer.writerow( row )\n",
      "finally:\n",
      "    f.close()\n",
      "\n"
     ],
     "language": "python",
     "metadata": {},
     "outputs": []
    },
    {
     "cell_type": "heading",
     "level": 2,
     "metadata": {},
     "source": [
      "Sharon's Codes and Stuff\n"
     ]
    },
    {
     "cell_type": "code",
     "collapsed": false,
     "input": [
      "from pybrain import *\n",
      "from pybrain.tools.shortcuts import buildNetwork\n",
      "from pybrain.datasets import SupervisedDataSet\n",
      "from pybrain.supervised.trainers import BackpropTrainer\n",
      "from pybrain.structure import SoftmaxLayer\n",
      "from pybrain.structure import GaussianLayer\n",
      "from pybrain.structure import TanhLayer\n",
      "\n",
      "\n",
      "print header\n",
      "print header_label\n",
      "print test[1]\n",
      "print test_label[1]"
     ],
     "language": "python",
     "metadata": {},
     "outputs": []
    },
    {
     "cell_type": "code",
     "collapsed": false,
     "input": [
      "ds = SupervisedDataSet(14,1)\n",
      "for i in range(0,len(train_label)):\n",
      "    ds.addSample(train[i,:14], train_label[i])\n",
      "\n",
      "net = buildNetwork(14,15,1, hiddenclass=TanhLayer, outclass=GaussianLayer)\n",
      "trainer = BackpropTrainer(net,ds)\n",
      "trainer.train()"
     ],
     "language": "python",
     "metadata": {},
     "outputs": []
    },
    {
     "cell_type": "code",
     "collapsed": false,
     "input": [
      "print net.activate(test[1,:14])\n",
      "print net.activate(test[2,:14])\n",
      "print net.activate(test[3,:14])\n",
      "print test_label[1:10]"
     ],
     "language": "python",
     "metadata": {},
     "outputs": []
    },
    {
     "cell_type": "code",
     "collapsed": false,
     "input": [
      "print net['in']\n",
      "print net['hidden0']\n",
      "print net['out']\n",
      "ds['target']"
     ],
     "language": "python",
     "metadata": {},
     "outputs": []
    }
   ],
   "metadata": {}
  }
 ]
}